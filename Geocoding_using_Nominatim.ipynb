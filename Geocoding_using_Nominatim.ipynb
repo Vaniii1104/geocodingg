{
  "nbformat": 4,
  "nbformat_minor": 0,
  "metadata": {
    "colab": {
      "provenance": []
    },
    "kernelspec": {
      "name": "python3",
      "display_name": "Python 3"
    },
    "language_info": {
      "name": "python"
    }
  },
  "cells": [
    {
      "cell_type": "markdown",
      "metadata": {
        "id": "Iyk0ElaXIlm2"
      },
      "source": [
        "# Scraping using Geocoding API of Open Street Maps (OSM)\n",
        "We would be using the Nominatim API to scrape geocoding information of any open ended address text using Python."
      ]
    },
    {
      "cell_type": "code",
      "metadata": {
        "id": "-LuNOEOgE8SR"
      },
      "source": [
        "# no need to install these if using Google Colab\n",
        "# !pip install geopandas\n",
        "# !pip install geopy"
      ],
      "execution_count": null,
      "outputs": []
    },
    {
      "cell_type": "code",
      "metadata": {
        "id": "5a-bYKeFE8Pu"
      },
      "source": [
        "#import nominatim api\n",
        "from geopy.geocoders import Nominatim"
      ],
      "execution_count": 1,
      "outputs": []
    },
    {
      "cell_type": "code",
      "metadata": {
        "id": "Ehpfh17zE8Nh"
      },
      "source": [
        "#activate nominatim geocoder\n",
        "locator = Nominatim(user_agent=\"myGeocoder\")\n",
        "#type any address text\n",
        "location = locator.geocode(\"chennai tamilnadu,india\")"
      ],
      "execution_count": 10,
      "outputs": []
    },
    {
      "cell_type": "code",
      "metadata": {
        "colab": {
          "base_uri": "https://localhost:8080/"
        },
        "id": "xf7vfNMoE8LT",
        "outputId": "03da06f5-44f3-4a25-a7a1-50e8a08b71ac"
      },
      "source": [
        "#print lattitude and longitude of the address\n",
        "print(\"Latitude = {}, Longitude = {}\".format(location.latitude, location.longitude))"
      ],
      "execution_count": 11,
      "outputs": [
        {
          "output_type": "stream",
          "name": "stdout",
          "text": [
            "Latitude = 13.0836939, Longitude = 80.270186\n"
          ]
        }
      ]
    },
    {
      "cell_type": "code",
      "metadata": {
        "colab": {
          "base_uri": "https://localhost:8080/"
        },
        "id": "Ah4sD11EFfjp",
        "outputId": "f9636428-bab2-4076-c912-42a060424e08"
      },
      "source": [
        "#the API output has multiple other details as a json like altitude, lattitude, longitude, correct raw addres, etc.\n",
        "#printing all the informaton\n",
        "location.raw,location.point,location.longitude,location.latitude,location.altitude,location.address"
      ],
      "execution_count": 5,
      "outputs": [
        {
          "output_type": "execute_result",
          "data": {
            "text/plain": [
              "({'place_id': 34028508,\n",
              "  'licence': 'Data © OpenStreetMap contributors, ODbL 1.0. https://osm.org/copyright',\n",
              "  'osm_type': 'node',\n",
              "  'osm_id': 2885001475,\n",
              "  'boundingbox': ['17.8220644', '18.1420644', '79.4370954', '79.7570954'],\n",
              "  'lat': '17.9820644',\n",
              "  'lon': '79.5970954',\n",
              "  'display_name': 'Warangal, Warangal mandal, Hanumakonda District, Telangana, 506002, India',\n",
              "  'class': 'place',\n",
              "  'type': 'city',\n",
              "  'importance': 0.7770221031215858,\n",
              "  'icon': 'https://nominatim.openstreetmap.org/ui/mapicons/poi_place_city.p.20.png'},\n",
              " Point(17.9820644, 79.5970954, 0.0),\n",
              " 79.5970954,\n",
              " 17.9820644,\n",
              " 0.0,\n",
              " 'Warangal, Warangal mandal, Hanumakonda District, Telangana, 506002, India')"
            ]
          },
          "metadata": {},
          "execution_count": 5
        }
      ]
    },
    {
      "cell_type": "code",
      "metadata": {
        "id": "ylYQlNgXFuLc"
      },
      "source": [
        "#trying another address\n",
        "location2 = locator.geocode(\"nit warangal\")"
      ],
      "execution_count": 8,
      "outputs": []
    },
    {
      "cell_type": "code",
      "metadata": {
        "colab": {
          "base_uri": "https://localhost:8080/"
        },
        "id": "d8fQUnnVF9rc",
        "outputId": "8ce139e6-35f0-4749-dd42-24d8ff245fb7"
      },
      "source": [
        "#printing all the informaton\n",
        "location2.raw,location2.point,location2.longitude,location2.latitude,location2.altitude,location2.address"
      ],
      "execution_count": 9,
      "outputs": [
        {
          "output_type": "execute_result",
          "data": {
            "text/plain": [
              "({'place_id': 209967449,\n",
              "  'licence': 'Data © OpenStreetMap contributors, ODbL 1.0. https://osm.org/copyright',\n",
              "  'osm_type': 'way',\n",
              "  'osm_id': 469538078,\n",
              "  'boundingbox': ['17.9780133', '17.9888132', '79.5262929', '79.5375659'],\n",
              "  'lat': '17.983353700000002',\n",
              "  'lon': '79.53351632675314',\n",
              "  'display_name': 'National Institute of Technology, Warangal, Jogging Path, Warangal, Khaazipet mandal, Hanumakonda District, Telangana, 506004, India',\n",
              "  'class': 'amenity',\n",
              "  'type': 'university',\n",
              "  'importance': 0.42866825440768375,\n",
              "  'icon': 'https://nominatim.openstreetmap.org/ui/mapicons/education_university.p.20.png'},\n",
              " Point(17.983353700000002, 79.53351632675314, 0.0),\n",
              " 79.53351632675314,\n",
              " 17.983353700000002,\n",
              " 0.0,\n",
              " 'National Institute of Technology, Warangal, Jogging Path, Warangal, Khaazipet mandal, Hanumakonda District, Telangana, 506004, India')"
            ]
          },
          "metadata": {},
          "execution_count": 9
        }
      ]
    },
    {
      "cell_type": "code",
      "metadata": {
        "id": "fHyIT_KzGOu6"
      },
      "source": [],
      "execution_count": null,
      "outputs": []
    },
    {
      "cell_type": "code",
      "metadata": {
        "id": "1OKDqw9SGN23"
      },
      "source": [],
      "execution_count": null,
      "outputs": []
    },
    {
      "cell_type": "code",
      "metadata": {
        "id": "edDjWNI_EqB5"
      },
      "source": [],
      "execution_count": null,
      "outputs": []
    }
  ]
}